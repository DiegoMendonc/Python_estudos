{
 "cells": [
  {
   "cell_type": "markdown",
   "metadata": {},
   "source": [
    "Calculadora Simples"
   ]
  },
  {
   "cell_type": "code",
   "execution_count": 2,
   "metadata": {},
   "outputs": [
    {
     "name": "stdout",
     "output_type": "stream",
     "text": [
      "Bem-vindo na Calculadora Simples\n"
     ]
    }
   ],
   "source": [
    "print(\"Bem-vindo na Calculadora Simples\")"
   ]
  },
  {
   "cell_type": "code",
   "execution_count": 3,
   "metadata": {},
   "outputs": [],
   "source": [
    "n1 = float(input(\"Digite o primeiro para calcular: \"))\n",
    "n2 = float(input(\"Digite o segundo para calcular: \"))"
   ]
  },
  {
   "cell_type": "code",
   "execution_count": 6,
   "metadata": {},
   "outputs": [
    {
     "name": "stdout",
     "output_type": "stream",
     "text": [
      "5.0 - 2.0 = 3.0\n"
     ]
    }
   ],
   "source": [
    "choice = input(\"Digite a operação que deseja realizar (+, -, *, /): \")\n",
    "\n",
    "if choice == '+':\n",
    "    print(n1, \"+\", n2, \"=\", n1 + n2)\n",
    "    \n",
    "elif choice == '-':\n",
    "    print(n1, \"-\", n2, \"=\", n1 - n2)\n",
    "    \n",
    "elif choice == '*':\n",
    "    print(n1, \"*\", n2, \"=\", n1 * n2)\n",
    "    \n",
    "elif choice == '/':\n",
    "    print(n1, \"/\", n2, \"=\", n1 / n2)\n",
    "    \n",
    "else:\n",
    "    print(\"Operação inválida\")\n"
   ]
  }
 ],
 "metadata": {
  "kernelspec": {
   "display_name": "Python 3",
   "language": "python",
   "name": "python3"
  },
  "language_info": {
   "codemirror_mode": {
    "name": "ipython",
    "version": 3
   },
   "file_extension": ".py",
   "mimetype": "text/x-python",
   "name": "python",
   "nbconvert_exporter": "python",
   "pygments_lexer": "ipython3",
   "version": "3.12.8"
  }
 },
 "nbformat": 4,
 "nbformat_minor": 2
}
